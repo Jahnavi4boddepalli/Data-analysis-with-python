{
  "nbformat": 4,
  "nbformat_minor": 0,
  "metadata": {
    "colab": {
      "provenance": []
    },
    "kernelspec": {
      "name": "python3",
      "display_name": "Python 3"
    },
    "language_info": {
      "name": "python"
    }
  },
  "cells": [
    {
      "cell_type": "code",
      "execution_count": 4,
      "metadata": {
        "colab": {
          "base_uri": "https://localhost:8080/"
        },
        "id": "BFlY__P_AGKB",
        "outputId": "062f8aa1-367e-4470-c8ca-1679f90cfd92"
      },
      "outputs": [
        {
          "output_type": "stream",
          "name": "stdout",
          "text": [
            "Model Evaluation Results:\n",
            "                     Accuracy  Precision    Recall  \\\n",
            "Logistic Regression  0.923077   0.931507  0.957746   \n",
            "Decision Tree        0.932692   0.984848  0.915493   \n",
            "Random Forest        0.990385   1.000000  0.985915   \n",
            "\n",
            "                     False Positive Rate (Type I Error)  \\\n",
            "Logistic Regression                            0.151515   \n",
            "Decision Tree                                  0.030303   \n",
            "Random Forest                                  0.000000   \n",
            "\n",
            "                     False Negative Rate (Type II Error)  \n",
            "Logistic Regression                             0.042254  \n",
            "Decision Tree                                   0.084507  \n",
            "Random Forest                                   0.014085  \n",
            "\n",
            "Z-Test Results for Mean Age of Correctly vs. Misclassified Cases:\n",
            "Z-Statistic: 1.7686101020183942, P-Value: 0.07695896375275615\n"
          ]
        }
      ],
      "source": [
        "import pandas as pd\n",
        "import numpy as np\n",
        "from statsmodels.stats.weightstats import ztest\n",
        "from sklearn.model_selection import train_test_split\n",
        "from sklearn.preprocessing import LabelEncoder\n",
        "from sklearn.ensemble import RandomForestClassifier, GradientBoostingClassifier\n",
        "from sklearn.tree import DecisionTreeClassifier\n",
        "from sklearn.linear_model import LogisticRegression\n",
        "from sklearn.svm import SVC\n",
        "from sklearn.neighbors import KNeighborsClassifier\n",
        "from sklearn.metrics import accuracy_score, precision_score, recall_score, confusion_matrix\n",
        "\n",
        "# Load dataset (ensure correct path)\n",
        "df = pd.read_csv(\"/content/diabetes_data_upload.csv\")\n",
        "\n",
        "# Encode categorical features\n",
        "label_encoders = {}\n",
        "for column in df.columns:\n",
        "    if df[column].dtype == 'object':  # Encode categorical columns\n",
        "        le = LabelEncoder()\n",
        "        df[column] = le.fit_transform(df[column])\n",
        "        label_encoders[column] = le\n",
        "\n",
        "# Define features and target\n",
        "X = df.drop(columns=[\"class\"])\n",
        "y = df[\"class\"]\n",
        "\n",
        "# Split dataset into training and testing sets\n",
        "X_train, X_test, y_train, y_test = train_test_split(X, y, test_size=0.2, random_state=42)\n",
        "\n",
        "# Initialize models\n",
        "models = {\n",
        "    \"Logistic Regression\": LogisticRegression(max_iter=500),\n",
        "    \"Decision Tree\": DecisionTreeClassifier(),\n",
        "    \"Random Forest\": RandomForestClassifier(n_estimators=100, random_state=42)\n",
        "}\n",
        "\n",
        "# Train models and evaluate performance\n",
        "results = {}\n",
        "for name, model in models.items():\n",
        "    model.fit(X_train, y_train)\n",
        "    y_pred = model.predict(X_test)\n",
        "\n",
        "    # Compute evaluation metrics\n",
        "    accuracy = accuracy_score(y_test, y_pred)\n",
        "    precision = precision_score(y_test, y_pred)\n",
        "    recall = recall_score(y_test, y_pred)\n",
        "\n",
        "    # Confusion matrix to compute Type I & Type II errors\n",
        "    tn, fp, fn, tp = confusion_matrix(y_test, y_pred).ravel()\n",
        "    type_i_error = fp / (fp + tn)  # False Positive Rate\n",
        "    type_ii_error = fn / (fn + tp)  # False Negative Rate\n",
        "\n",
        "    results[name] = {\n",
        "        \"Accuracy\": accuracy,\n",
        "        \"Precision\": precision,\n",
        "        \"Recall\": recall,\n",
        "        \"False Positive Rate (Type I Error)\": type_i_error,\n",
        "        \"False Negative Rate (Type II Error)\": type_ii_error\n",
        "    }\n",
        "\n",
        "# Perform Z-Test on mean age of correctly classified vs. misclassified diabetic patients\n",
        "log_reg = LogisticRegression(max_iter=500)\n",
        "log_reg.fit(X_train, y_train)\n",
        "y_pred_log = log_reg.predict(X_test)\n",
        "\n",
        "# Extract correctly and incorrectly classified patients\n",
        "correct_classified = X_test[y_pred_log == y_test]['Age']\n",
        "misclassified = X_test[y_pred_log != y_test]['Age']\n",
        "\n",
        "# Perform Z-Test\n",
        "z_stat, p_value = ztest(correct_classified, misclassified)\n",
        "\n",
        "# Print results\n",
        "print(\"Model Evaluation Results:\")\n",
        "print(pd.DataFrame(results).T)\n",
        "print(\"\\nZ-Test Results for Mean Age of Correctly vs. Misclassified Cases:\")\n",
        "print(f\"Z-Statistic: {z_stat}, P-Value: {p_value}\")\n",
        "\n",
        "# Analyze false positive rate of Random Forest and perform One-Sample Z-Test\n",
        "rf_model = RandomForestClassifier(n_estimators=100, random_state=42)\n",
        "rf_model.fit(X_train, y_train)\n",
        "y_pred_rf = rf_model.predict(X_test)\n",
        "tn_rf, fp_rf, fn_rf, tp_rf = confusion_matrix(y_test, y_pred_rf).ravel()\n",
        "false_positive_rate_rf = fp_rf / (fp_rf + tn_rf)\n",
        "\n",
        "if false_positive_rate_rf > 0.2:\n",
        "    z_stat_rf, p_value_rf = ztest([false_positive_rate_rf], value=0.2)\n",
        "    print(f\"\\nOne-Sample Z-Test for False Positive Rate of Random Forest:\")\n",
        "    print(f\"Z-Statistic: {z_stat_rf}, P-Value: {p_value_rf}\")\n"
      ]
    },
    {
      "cell_type": "code",
      "source": [
        "df = pd.read_csv(\"/content/diabetes_data_upload.csv\")\n",
        "print(df.columns)\n"
      ],
      "metadata": {
        "colab": {
          "base_uri": "https://localhost:8080/"
        },
        "id": "uAgVf4YGBArE",
        "outputId": "70547949-5a12-4209-a995-11791a781b62"
      },
      "execution_count": 3,
      "outputs": [
        {
          "output_type": "stream",
          "name": "stdout",
          "text": [
            "Index(['Age', 'Gender', 'Polyuria', 'Polydipsia', 'sudden weight loss',\n",
            "       'weakness', 'Polyphagia', 'Genital thrush', 'visual blurring',\n",
            "       'Itching', 'Irritability', 'delayed healing', 'partial paresis',\n",
            "       'muscle stiffness', 'Alopecia', 'Obesity', 'class'],\n",
            "      dtype='object')\n"
          ]
        }
      ]
    }
  ]
}